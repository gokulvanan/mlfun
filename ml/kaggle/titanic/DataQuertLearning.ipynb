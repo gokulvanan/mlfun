{
 "cells": [
  {
   "cell_type": "code",
   "execution_count": 176,
   "metadata": {
    "collapsed": true
   },
   "outputs": [],
   "source": [
    "import pandas as pd\n",
    "import numpy as np\n",
    "import matplotlib.pyplot as plt\n",
    "%matplotlib inline"
   ]
  },
  {
   "cell_type": "code",
   "execution_count": 225,
   "metadata": {
    "collapsed": false
   },
   "outputs": [
    {
     "data": {
      "text/html": [
       "<div>\n",
       "<table border=\"1\" class=\"dataframe\">\n",
       "  <thead>\n",
       "    <tr style=\"text-align: right;\">\n",
       "      <th></th>\n",
       "      <th>PassengerId</th>\n",
       "      <th>Survived</th>\n",
       "      <th>Pclass</th>\n",
       "      <th>Name</th>\n",
       "      <th>Sex</th>\n",
       "      <th>Age</th>\n",
       "      <th>SibSp</th>\n",
       "      <th>Parch</th>\n",
       "      <th>Ticket</th>\n",
       "      <th>Fare</th>\n",
       "      <th>Cabin</th>\n",
       "      <th>Embarked</th>\n",
       "    </tr>\n",
       "  </thead>\n",
       "  <tbody>\n",
       "    <tr>\n",
       "      <th>0</th>\n",
       "      <td>1</td>\n",
       "      <td>0</td>\n",
       "      <td>3</td>\n",
       "      <td>Braund, Mr. Owen Harris</td>\n",
       "      <td>male</td>\n",
       "      <td>22</td>\n",
       "      <td>1</td>\n",
       "      <td>0</td>\n",
       "      <td>A/5 21171</td>\n",
       "      <td>7.2500</td>\n",
       "      <td>NaN</td>\n",
       "      <td>S</td>\n",
       "    </tr>\n",
       "    <tr>\n",
       "      <th>1</th>\n",
       "      <td>2</td>\n",
       "      <td>1</td>\n",
       "      <td>1</td>\n",
       "      <td>Cumings, Mrs. John Bradley (Florence Briggs Th...</td>\n",
       "      <td>female</td>\n",
       "      <td>38</td>\n",
       "      <td>1</td>\n",
       "      <td>0</td>\n",
       "      <td>PC 17599</td>\n",
       "      <td>71.2833</td>\n",
       "      <td>C85</td>\n",
       "      <td>C</td>\n",
       "    </tr>\n",
       "    <tr>\n",
       "      <th>2</th>\n",
       "      <td>3</td>\n",
       "      <td>1</td>\n",
       "      <td>3</td>\n",
       "      <td>Heikkinen, Miss. Laina</td>\n",
       "      <td>female</td>\n",
       "      <td>26</td>\n",
       "      <td>0</td>\n",
       "      <td>0</td>\n",
       "      <td>STON/O2. 3101282</td>\n",
       "      <td>7.9250</td>\n",
       "      <td>NaN</td>\n",
       "      <td>S</td>\n",
       "    </tr>\n",
       "    <tr>\n",
       "      <th>3</th>\n",
       "      <td>4</td>\n",
       "      <td>1</td>\n",
       "      <td>1</td>\n",
       "      <td>Futrelle, Mrs. Jacques Heath (Lily May Peel)</td>\n",
       "      <td>female</td>\n",
       "      <td>35</td>\n",
       "      <td>1</td>\n",
       "      <td>0</td>\n",
       "      <td>113803</td>\n",
       "      <td>53.1000</td>\n",
       "      <td>C123</td>\n",
       "      <td>S</td>\n",
       "    </tr>\n",
       "    <tr>\n",
       "      <th>4</th>\n",
       "      <td>5</td>\n",
       "      <td>0</td>\n",
       "      <td>3</td>\n",
       "      <td>Allen, Mr. William Henry</td>\n",
       "      <td>male</td>\n",
       "      <td>35</td>\n",
       "      <td>0</td>\n",
       "      <td>0</td>\n",
       "      <td>373450</td>\n",
       "      <td>8.0500</td>\n",
       "      <td>NaN</td>\n",
       "      <td>S</td>\n",
       "    </tr>\n",
       "  </tbody>\n",
       "</table>\n",
       "</div>"
      ],
      "text/plain": [
       "   PassengerId  Survived  Pclass  \\\n",
       "0            1         0       3   \n",
       "1            2         1       1   \n",
       "2            3         1       3   \n",
       "3            4         1       1   \n",
       "4            5         0       3   \n",
       "\n",
       "                                                Name     Sex  Age  SibSp  \\\n",
       "0                            Braund, Mr. Owen Harris    male   22      1   \n",
       "1  Cumings, Mrs. John Bradley (Florence Briggs Th...  female   38      1   \n",
       "2                             Heikkinen, Miss. Laina  female   26      0   \n",
       "3       Futrelle, Mrs. Jacques Heath (Lily May Peel)  female   35      1   \n",
       "4                           Allen, Mr. William Henry    male   35      0   \n",
       "\n",
       "   Parch            Ticket     Fare Cabin Embarked  \n",
       "0      0         A/5 21171   7.2500   NaN        S  \n",
       "1      0          PC 17599  71.2833   C85        C  \n",
       "2      0  STON/O2. 3101282   7.9250   NaN        S  \n",
       "3      0            113803  53.1000  C123        S  \n",
       "4      0            373450   8.0500   NaN        S  "
      ]
     },
     "execution_count": 225,
     "metadata": {},
     "output_type": "execute_result"
    }
   ],
   "source": [
    "train_data = pd.read_csv(\"data/train.csv\")\n",
    "train_data.head()"
   ]
  },
  {
   "cell_type": "code",
   "execution_count": 178,
   "metadata": {
    "collapsed": false
   },
   "outputs": [
    {
     "data": {
      "text/html": [
       "<div>\n",
       "<table border=\"1\" class=\"dataframe\">\n",
       "  <thead>\n",
       "    <tr style=\"text-align: right;\">\n",
       "      <th></th>\n",
       "      <th>PassengerId</th>\n",
       "      <th>Survived</th>\n",
       "      <th>Pclass</th>\n",
       "      <th>Age</th>\n",
       "      <th>SibSp</th>\n",
       "      <th>Parch</th>\n",
       "      <th>Fare</th>\n",
       "    </tr>\n",
       "  </thead>\n",
       "  <tbody>\n",
       "    <tr>\n",
       "      <th>count</th>\n",
       "      <td>891.000000</td>\n",
       "      <td>891.000000</td>\n",
       "      <td>891.000000</td>\n",
       "      <td>714.000000</td>\n",
       "      <td>891.000000</td>\n",
       "      <td>891.000000</td>\n",
       "      <td>891.000000</td>\n",
       "    </tr>\n",
       "    <tr>\n",
       "      <th>mean</th>\n",
       "      <td>446.000000</td>\n",
       "      <td>0.383838</td>\n",
       "      <td>2.308642</td>\n",
       "      <td>29.699118</td>\n",
       "      <td>0.523008</td>\n",
       "      <td>0.381594</td>\n",
       "      <td>32.204208</td>\n",
       "    </tr>\n",
       "    <tr>\n",
       "      <th>std</th>\n",
       "      <td>257.353842</td>\n",
       "      <td>0.486592</td>\n",
       "      <td>0.836071</td>\n",
       "      <td>14.526497</td>\n",
       "      <td>1.102743</td>\n",
       "      <td>0.806057</td>\n",
       "      <td>49.693429</td>\n",
       "    </tr>\n",
       "    <tr>\n",
       "      <th>min</th>\n",
       "      <td>1.000000</td>\n",
       "      <td>0.000000</td>\n",
       "      <td>1.000000</td>\n",
       "      <td>0.420000</td>\n",
       "      <td>0.000000</td>\n",
       "      <td>0.000000</td>\n",
       "      <td>0.000000</td>\n",
       "    </tr>\n",
       "    <tr>\n",
       "      <th>25%</th>\n",
       "      <td>223.500000</td>\n",
       "      <td>0.000000</td>\n",
       "      <td>2.000000</td>\n",
       "      <td>20.125000</td>\n",
       "      <td>0.000000</td>\n",
       "      <td>0.000000</td>\n",
       "      <td>7.910400</td>\n",
       "    </tr>\n",
       "    <tr>\n",
       "      <th>50%</th>\n",
       "      <td>446.000000</td>\n",
       "      <td>0.000000</td>\n",
       "      <td>3.000000</td>\n",
       "      <td>28.000000</td>\n",
       "      <td>0.000000</td>\n",
       "      <td>0.000000</td>\n",
       "      <td>14.454200</td>\n",
       "    </tr>\n",
       "    <tr>\n",
       "      <th>75%</th>\n",
       "      <td>668.500000</td>\n",
       "      <td>1.000000</td>\n",
       "      <td>3.000000</td>\n",
       "      <td>38.000000</td>\n",
       "      <td>1.000000</td>\n",
       "      <td>0.000000</td>\n",
       "      <td>31.000000</td>\n",
       "    </tr>\n",
       "    <tr>\n",
       "      <th>max</th>\n",
       "      <td>891.000000</td>\n",
       "      <td>1.000000</td>\n",
       "      <td>3.000000</td>\n",
       "      <td>80.000000</td>\n",
       "      <td>8.000000</td>\n",
       "      <td>6.000000</td>\n",
       "      <td>512.329200</td>\n",
       "    </tr>\n",
       "  </tbody>\n",
       "</table>\n",
       "</div>"
      ],
      "text/plain": [
       "       PassengerId    Survived      Pclass         Age       SibSp  \\\n",
       "count   891.000000  891.000000  891.000000  714.000000  891.000000   \n",
       "mean    446.000000    0.383838    2.308642   29.699118    0.523008   \n",
       "std     257.353842    0.486592    0.836071   14.526497    1.102743   \n",
       "min       1.000000    0.000000    1.000000    0.420000    0.000000   \n",
       "25%     223.500000    0.000000    2.000000   20.125000    0.000000   \n",
       "50%     446.000000    0.000000    3.000000   28.000000    0.000000   \n",
       "75%     668.500000    1.000000    3.000000   38.000000    1.000000   \n",
       "max     891.000000    1.000000    3.000000   80.000000    8.000000   \n",
       "\n",
       "            Parch        Fare  \n",
       "count  891.000000  891.000000  \n",
       "mean     0.381594   32.204208  \n",
       "std      0.806057   49.693429  \n",
       "min      0.000000    0.000000  \n",
       "25%      0.000000    7.910400  \n",
       "50%      0.000000   14.454200  \n",
       "75%      0.000000   31.000000  \n",
       "max      6.000000  512.329200  "
      ]
     },
     "execution_count": 178,
     "metadata": {},
     "output_type": "execute_result"
    }
   ],
   "source": [
    "train_data.describe()"
   ]
  },
  {
   "cell_type": "code",
   "execution_count": 192,
   "metadata": {
    "collapsed": false
   },
   "outputs": [],
   "source": [
    "#convert sex to integet to be plotable\n",
    "def replace_val(data,field,val,replace_val):\n",
    "    data.loc[data[field] == val, field] = replace_val\n"
   ]
  },
  {
   "cell_type": "code",
   "execution_count": 193,
   "metadata": {
    "collapsed": false
   },
   "outputs": [
    {
     "data": {
      "text/plain": [
       "array([1, 0, 3, 4, 2, 5, 8])"
      ]
     },
     "execution_count": 193,
     "metadata": {},
     "output_type": "execute_result"
    }
   ],
   "source": [
    "train_data[\"SibSp\"].unique()"
   ]
  },
  {
   "cell_type": "code",
   "execution_count": 194,
   "metadata": {
    "collapsed": false
   },
   "outputs": [],
   "source": [
    "def scatter_plot(x, y, data):\n",
    "    plt.figure()\n",
    "    plt.title(x+\" vs \"+y)\n",
    "    plt.legend()\n",
    "    plt.scatter(train_data[x],train_data[y])\n",
    "    plt.xlabel(x)\n",
    "    plt.ylabel(y)\n",
    "    plt.show()"
   ]
  },
  {
   "cell_type": "code",
   "execution_count": 161,
   "metadata": {
    "collapsed": false
   },
   "outputs": [
    {
     "data": {
      "image/png": "[encoded data removed]",
      "text/plain": [
       "<matplotlib.figure.Figure at 0x110567a90>"
      ]
     },
     "metadata": {},
     "output_type": "display_data"
    }
   ],
   "source": [
    "scatter_plot(\"Survived\",\"Age\",train_data)"
   ]
  },
  {
   "cell_type": "code",
   "execution_count": 195,
   "metadata": {
    "collapsed": true
   },
   "outputs": [],
   "source": [
    "#Import modules\n",
    "from sklearn import cross_validation  #splits data in train and test\n",
    "from sklearn.metrics import make_scorer\n",
    "from sklearn import grid_search\n",
    "from sklearn.tree import DecisionTreeRegressor #some estimator"
   ]
  },
  {
   "cell_type": "code",
   "execution_count": 226,
   "metadata": {
    "collapsed": false
   },
   "outputs": [],
   "source": [
    "medianAge =train_data[\"Age\"].median()\n",
    "#function to help drop unwanted columsn and split data randomaly \n",
    "#such that 30% of the data is test data and 70% used for training\n",
    "def prepare_data(data,medianAge):\n",
    "    #prepare step\n",
    "    data[\"Age\"] = data[\"Age\"].fillna(medianAge)\n",
    "    replace_val(data,'Sex',\"male\",0)\n",
    "    replace_val(data,'Sex',\"female\",1)\n",
    "    data['Embarked'] = data['Embarked'].fillna('S')\n",
    "    replace_val(data,'Embarked',\"S\",0)\n",
    "    replace_val(data,'Embarked',\"C\",1)\n",
    "    replace_val(data,'Embarked',\"Q\",2)\n",
    "    return data\n",
    "   \n",
    "def split_data(data):\n",
    "    #split step\n",
    "    target = data['Survived']\n",
    "    train =data.drop([\"Survived\",\"Name\",\"PassengerId\",\"Ticket\",\"Cabin\"],1)\n",
    "    return train, target\n",
    "    #x_train, x_test, y_train, y_test = cross_validation.train_test_split(train,target,test_size=0.3,random_state=1)\n",
    "    #return x_train, y_train, x_test, y_test"
   ]
  },
  {
   "cell_type": "code",
   "execution_count": 264,
   "metadata": {
    "collapsed": false
   },
   "outputs": [],
   "source": [
    "#Function to determined accuracy of prediction\n",
    "def accuracy_score(actual,prediction):\n",
    "    score = 0.0\n",
    "    for i, val in enumerate(actual):\n",
    "        pred = round(prediction[i])\n",
    "        val = val * 1.0\n",
    "        #print val, pred\n",
    "        if val == pred:\n",
    "            score += 1.0\n",
    "            \n",
    "    accuracy = score/(len(actual)*1.0)\n",
    "    \n",
    "    return accuracy\n",
    "\n"
   ]
  },
  {
   "cell_type": "code",
   "execution_count": 265,
   "metadata": {
    "collapsed": false
   },
   "outputs": [],
   "source": [
    "score_function = make_scorer(accuracy_score,True)\n",
    "reg = DecisionTreeRegressor()\n",
    "parameters = { \"max_depth\": (1,2,3,4,5,6,7)}"
   ]
  },
  {
   "cell_type": "code",
   "execution_count": 227,
   "metadata": {
    "collapsed": true
   },
   "outputs": [],
   "source": [
    "data = prepare_data(train_data,medianAge)"
   ]
  },
  {
   "cell_type": "code",
   "execution_count": 266,
   "metadata": {
    "collapsed": false
   },
   "outputs": [
    {
     "name": "stdout",
     "output_type": "stream",
     "text": [
      "0.818181818182\n",
      "{'max_depth': 4}\n"
     ]
    }
   ],
   "source": [
    "\n",
    "x,y = split_data(data) \n",
    "grid = grid_search.GridSearchCV(reg, parameters,score_function)\n",
    "grid.fit(x,y)\n",
    "print grid.best_score_\n",
    "print grid.best_params_\n",
    "estimator = grid.best_estimator_"
   ]
  },
  {
   "cell_type": "code",
   "execution_count": 271,
   "metadata": {
    "collapsed": false
   },
   "outputs": [
    {
     "data": {
      "text/html": [
       "<div>\n",
       "<table border=\"1\" class=\"dataframe\">\n",
       "  <thead>\n",
       "    <tr style=\"text-align: right;\">\n",
       "      <th></th>\n",
       "      <th>Pclass</th>\n",
       "      <th>Age</th>\n",
       "      <th>SibSp</th>\n",
       "      <th>Parch</th>\n",
       "      <th>Fare</th>\n",
       "    </tr>\n",
       "  </thead>\n",
       "  <tbody>\n",
       "    <tr>\n",
       "      <th>count</th>\n",
       "      <td>418.000000</td>\n",
       "      <td>418.000000</td>\n",
       "      <td>418.000000</td>\n",
       "      <td>418.000000</td>\n",
       "      <td>418.000000</td>\n",
       "    </tr>\n",
       "    <tr>\n",
       "      <th>mean</th>\n",
       "      <td>2.265550</td>\n",
       "      <td>29.805024</td>\n",
       "      <td>0.447368</td>\n",
       "      <td>0.392344</td>\n",
       "      <td>35.576535</td>\n",
       "    </tr>\n",
       "    <tr>\n",
       "      <th>std</th>\n",
       "      <td>0.841838</td>\n",
       "      <td>12.667969</td>\n",
       "      <td>0.896760</td>\n",
       "      <td>0.981429</td>\n",
       "      <td>55.850103</td>\n",
       "    </tr>\n",
       "    <tr>\n",
       "      <th>min</th>\n",
       "      <td>1.000000</td>\n",
       "      <td>0.170000</td>\n",
       "      <td>0.000000</td>\n",
       "      <td>0.000000</td>\n",
       "      <td>0.000000</td>\n",
       "    </tr>\n",
       "    <tr>\n",
       "      <th>25%</th>\n",
       "      <td>1.000000</td>\n",
       "      <td>23.000000</td>\n",
       "      <td>0.000000</td>\n",
       "      <td>0.000000</td>\n",
       "      <td>7.895800</td>\n",
       "    </tr>\n",
       "    <tr>\n",
       "      <th>50%</th>\n",
       "      <td>3.000000</td>\n",
       "      <td>28.000000</td>\n",
       "      <td>0.000000</td>\n",
       "      <td>0.000000</td>\n",
       "      <td>14.454200</td>\n",
       "    </tr>\n",
       "    <tr>\n",
       "      <th>75%</th>\n",
       "      <td>3.000000</td>\n",
       "      <td>35.750000</td>\n",
       "      <td>1.000000</td>\n",
       "      <td>0.000000</td>\n",
       "      <td>31.471875</td>\n",
       "    </tr>\n",
       "    <tr>\n",
       "      <th>max</th>\n",
       "      <td>3.000000</td>\n",
       "      <td>76.000000</td>\n",
       "      <td>8.000000</td>\n",
       "      <td>9.000000</td>\n",
       "      <td>512.329200</td>\n",
       "    </tr>\n",
       "  </tbody>\n",
       "</table>\n",
       "</div>"
      ],
      "text/plain": [
       "           Pclass         Age       SibSp       Parch        Fare\n",
       "count  418.000000  418.000000  418.000000  418.000000  418.000000\n",
       "mean     2.265550   29.805024    0.447368    0.392344   35.576535\n",
       "std      0.841838   12.667969    0.896760    0.981429   55.850103\n",
       "min      1.000000    0.170000    0.000000    0.000000    0.000000\n",
       "25%      1.000000   23.000000    0.000000    0.000000    7.895800\n",
       "50%      3.000000   28.000000    0.000000    0.000000   14.454200\n",
       "75%      3.000000   35.750000    1.000000    0.000000   31.471875\n",
       "max      3.000000   76.000000    8.000000    9.000000  512.329200"
      ]
     },
     "execution_count": 271,
     "metadata": {},
     "output_type": "execute_result"
    }
   ],
   "source": [
    "test_data= pd.read_csv(\"data/test.csv\")\n",
    "test_data = prepare_data(test_data,medianAge)\n",
    "test_x = test_data.drop([\"Name\",\"PassengerId\",\"Ticket\",\"Cabin\"],1)\n",
    "test_x[\"Fare\"] = test_x[\"Fare\"].fillna(test_x[\"Fare\"].median())\n",
    "np.shape(test_x)\n",
    "test_x.describe()\n"
   ]
  },
  {
   "cell_type": "code",
   "execution_count": 273,
   "metadata": {
    "collapsed": false
   },
   "outputs": [
    {
     "name": "stdout",
     "output_type": "stream",
     "text": [
      "[ 0.10791367  0.14285714  0.10791367  0.10791367  0.61818182  0.10791367\n",
      "  0.61818182  0.10791367  0.61818182  0.10791367  0.10791367  0.\n",
      "  0.98989899  0.10791367  0.98989899  0.89855072  0.10791367  0.10791367\n",
      "  0.61818182  0.14285714  0.39090909  0.10791367  0.98989899  0.39090909\n",
      "  0.98989899  0.10791367  0.98989899  0.10791367  0.39090909  0.10791367\n",
      "  0.10791367  0.10791367  0.61818182  0.07692308  0.39090909  0.10791367\n",
      "  0.61818182  0.61818182  0.10791367  0.3125      0.10791367  0.39090909\n",
      "  0.10791367  0.89855072  0.98989899  0.10791367  0.39090909  0.10791367\n",
      "  0.98989899  0.61818182  0.39090909  0.10791367  0.89855072  0.98989899\n",
      "  0.10791367  0.10791367  0.10791367  0.10791367  0.10791367  0.98989899\n",
      "  0.10791367  0.10791367  0.10791367  0.61818182  0.39090909  0.89855072\n",
      "  0.61818182  0.39090909  0.39090909  0.98989899  0.61818182  0.10791367\n",
      "  0.61818182  0.39090909  0.98989899  0.39090909  0.10791367  0.89855072\n",
      "  0.10791367  0.61818182  1.          0.39090909  0.          0.10791367\n",
      "  0.10791367  0.10791367  0.61818182  0.61818182  0.61818182  1.\n",
      "  0.61818182  0.10791367  0.98989899  0.10791367  0.          0.10791367\n",
      "  0.98989899  0.10791367  0.61818182  0.10791367  0.98989899  0.10791367\n",
      "  0.10791367  0.10791367  0.61818182  0.10791367  0.10791367  0.10791367\n",
      "  0.10791367  0.10791367  0.10791367  0.61818182  0.98989899  0.61818182\n",
      "  0.98989899  0.10791367  0.10791367  0.61818182  0.39090909  0.89855072\n",
      "  0.89855072  0.10791367  0.98989899  0.10791367  0.10791367  0.61818182\n",
      "  0.10791367  0.61818182  0.10791367  0.10791367  0.10791367  0.39090909\n",
      "  0.07692308  0.10791367  0.10791367  0.10791367  0.10791367  0.10791367\n",
      "  0.61818182  0.10791367  0.07692308  0.98989899  0.39090909  0.10791367\n",
      "  0.39090909  0.10791367  0.39090909  0.10791367  0.39090909  0.10791367\n",
      "  0.98989899  0.10791367  0.10791367  0.61818182  0.10791367  0.10791367\n",
      "  0.98989899  0.61818182  0.39090909  0.61818182  0.61818182  0.10791367\n",
      "  0.89855072  0.10791367  0.10791367  0.61818182  0.39090909  0.10791367\n",
      "  0.89855072  0.61818182  0.10791367  0.10791367  0.10791367  0.10791367\n",
      "  0.10791367  0.98989899  0.98989899  0.39090909  0.98989899  0.98989899\n",
      "  0.10791367  0.39090909  0.98989899  0.10791367  0.98989899  0.10791367\n",
      "  0.89855072  0.10791367  0.07692308  0.10791367  0.10791367  0.\n",
      "  0.10791367  0.10791367  0.10791367  0.10791367  1.          0.61818182\n",
      "  0.10791367  0.61818182  0.61818182  1.          0.39090909  0.89855072\n",
      "  0.10791367  0.          0.61818182  0.10791367  0.89855072  0.10791367\n",
      "  0.10791367  0.10791367  0.3125      0.89855072  0.14285714  0.39090909\n",
      "  0.61818182  0.39090909  0.98989899  0.10791367  0.89855072  0.10791367\n",
      "  0.89855072  0.10791367  0.89855072  0.61818182  0.10791367  0.61818182\n",
      "  0.10791367  0.10791367  0.3125      0.89855072  0.10791367  0.10791367\n",
      "  0.39090909  0.10791367  0.39090909  0.10791367  0.89855072  0.98989899\n",
      "  0.89855072  0.98989899  0.39090909  0.10791367  0.10791367  0.39090909\n",
      "  0.89855072  0.10791367  0.89855072  0.61818182  1.          0.10791367\n",
      "  0.39090909  0.10791367  0.10791367  0.10791367  0.10791367  0.10791367\n",
      "  0.89855072  0.10791367  0.10791367  0.10791367  0.89855072  0.61818182\n",
      "  0.10791367  0.10791367  0.          0.10791367  0.61818182  0.10791367\n",
      "  0.39090909  0.10791367  0.98989899  0.61818182  0.10791367  0.89855072\n",
      "  0.10791367  0.10791367  0.10791367  0.10791367  0.61818182  1.\n",
      "  0.61818182  0.61818182  0.61818182  0.10791367  0.10791367  0.39090909\n",
      "  0.10791367  0.10791367  0.39090909  0.61818182  0.10791367  0.39090909\n",
      "  0.10791367  0.10791367  1.          0.10791367  0.39090909  0.10791367\n",
      "  0.10791367  0.10791367  0.10791367  0.10791367  0.61818182  0.89855072\n",
      "  0.39090909  1.          0.39090909  0.14285714  0.10791367  0.10791367\n",
      "  0.10791367  0.14285714  0.98989899  0.61818182  0.39090909  0.10791367\n",
      "  0.10791367  0.10791367  0.10791367  0.10791367  0.10791367  0.39090909\n",
      "  0.98989899  0.10791367  0.98989899  0.39090909  0.10791367  0.10791367\n",
      "  0.98989899  0.39090909  0.10791367  0.61818182  0.10791367  0.\n",
      "  0.10791367  0.10791367  0.10791367  0.10791367  0.10791367  0.10791367\n",
      "  0.3125      0.98989899  0.10791367  0.61818182  0.10791367  0.14285714\n",
      "  0.10791367  0.89855072  0.98989899  0.10791367  0.3125      0.3125\n",
      "  0.61818182  0.          0.98989899  0.10791367  0.10791367  0.61818182\n",
      "  0.3125      0.98989899  0.89855072  0.10791367  0.98989899  0.07692308\n",
      "  0.10791367  1.          0.98989899  0.10791367  0.10791367  0.98989899\n",
      "  0.          0.10791367  0.98989899  0.98989899  0.61818182  0.10791367\n",
      "  0.39090909  0.25        0.10791367  0.10791367  0.61818182  0.61818182\n",
      "  0.10791367  0.98989899  0.10791367  0.10791367  0.10791367  0.25\n",
      "  0.39090909  0.98989899  0.10791367  0.10791367  0.10791367  0.98989899\n",
      "  0.10791367  0.98989899  0.10791367  0.10791367  0.98989899  0.10791367\n",
      "  0.98989899  0.39090909  0.39090909  0.10791367  0.10791367  0.39090909\n",
      "  0.61818182  0.61818182  0.61818182  0.98989899  0.61818182  0.10791367\n",
      "  0.98989899  0.10791367  0.10791367  0.10791367]\n"
     ]
    }
   ],
   "source": [
    "predict_y = estimator.predict(test_x)\n",
    "print predict_y"
   ]
  }
 ],
 "metadata": {
  "kernelspec": {
   "display_name": "Python 2",
   "language": "python",
   "name": "python2"
  },
  "language_info": {
   "codemirror_mode": {
    "name": "ipython",
    "version": 2
   },
   "file_extension": ".py",
   "mimetype": "text/x-python",
   "name": "python",
   "nbconvert_exporter": "python",
   "pygments_lexer": "ipython2",
   "version": "2.7.10"
  }
 },
 "nbformat": 4,
 "nbformat_minor": 0
}
