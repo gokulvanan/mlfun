{
 "cells": [
  {
   "cell_type": "markdown",
   "metadata": {
    "collapsed": true
   },
   "source": [
    "Excelent readup on decision tree algo:\n",
    "https://storage.googleapis.com/supplemental_media/udacityu/5414400946/ID3%20Algorithm%20for%20Decision%20Trees.pdf\n",
    "\n",
    "Decision tree is the concept of recusive split. such that at each split we pick one attribute that best splits the data, till we partition data to nodes which are as per required accuracy in case of classification or mean squared error in case of regression or till max level we go down tree to avoid overfitting.\n",
    "\n",
    "The important aspect is the concept of information gain computation used in picking the best metric to split the data in tree construction.\n",
    "Decision Tree can be used for both Classification and Regression.\n",
    "\n",
    "In case of classification:\n",
    "Entropy - measure of disorder is used in information gain computation.\n",
    "Entryopy is computed as Sum - pi*log2(pi) \n",
    "where Sum runs i for each classfication output eg. for output = +ve and -ve \n",
    "Entropy = -p+ve * log2(p+ve) - p-ve * log2(p-ve)\n",
    "Here p = propotion of data per classification . i.e. with data having 9+ve and 3-ve values\n",
    "p+ve = 9/12 = 3/4 = 0.75 and p-ve= 0.25\n",
    "\n",
    "Note Entropy goes to 0 when p+ve of p-ve is 0 or 1 and is max when they are 0.5 (equal)\n",
    "\n",
    "Hence the logic of ID3 is to check information gain because of split\n",
    "For instance if taking attirbute splits data such that we have 3 split \n",
    "(3+ve, 1-ve) (3+ve, 0-ve) (3+ve, 2-ve)  -> now if we compute the weighted avg entropy of these splits\n",
    "4/12 E(split1) + 3/12 E(split2) + 5/12 E(split3) -> where E(split) - entropy of split\n",
    "\n",
    "Info gain = E(S) - (Sum Weighted average Entropy of each split);\n",
    "\n",
    "The higher the infoGain the better the split.\n",
    "\n",
    "In case of regression the information gain is computed by other logic like difference in mean sqaured errors etc."
   ]
  }
 ],
 "metadata": {
  "kernelspec": {
   "display_name": "Python 2",
   "language": "python",
   "name": "python2"
  },
  "language_info": {
   "codemirror_mode": {
    "name": "ipython",
    "version": 2
   },
   "file_extension": ".py",
   "mimetype": "text/x-python",
   "name": "python",
   "nbconvert_exporter": "python",
   "pygments_lexer": "ipython2",
   "version": "2.7.10"
  }
 },
 "nbformat": 4,
 "nbformat_minor": 0
}
