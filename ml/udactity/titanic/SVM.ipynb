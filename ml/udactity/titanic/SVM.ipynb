{
 "cells": [
  {
   "cell_type": "code",
   "execution_count": 2,
   "metadata": {
    "collapsed": false
   },
   "outputs": [],
   "source": [
    "from sklearn import svm, datasets\n",
    "import numpy as np\n",
    "import matplotlib.pyplot as plt\n"
   ]
  },
  {
   "cell_type": "code",
   "execution_count": 11,
   "metadata": {
    "collapsed": false
   },
   "outputs": [],
   "source": [
    "iris = datasets.load_iris()\n",
    "X = iris.data[:,:2] # takin only the first two dim to be able to plot this in 2D graph\n",
    "y = iris.target"
   ]
  },
  {
   "cell_type": "code",
   "execution_count": 41,
   "metadata": {
    "collapsed": false
   },
   "outputs": [],
   "source": [
    "svc = svm.SVC(kernel='linear', C=1, gamma='auto').fit(X,y)"
   ]
  },
  {
   "cell_type": "code",
   "execution_count": 47,
   "metadata": {
    "collapsed": false
   },
   "outputs": [
    {
     "data": {
      "text/plain": [
       "array([[1, 2, 3],\n",
       "       [1, 2, 3],\n",
       "       [1, 2, 3]])"
      ]
     },
     "execution_count": 47,
     "metadata": {},
     "output_type": "execute_result"
    }
   ],
   "source": [
    "#learning np.meshgrid\n",
    "aa,bb = np.meshgrid([1,2,3],[10,20,30])\n",
    "#this arrages aa as \n",
    "aa"
   ]
  },
  {
   "cell_type": "code",
   "execution_count": 48,
   "metadata": {
    "collapsed": false
   },
   "outputs": [
    {
     "data": {
      "text/plain": [
       "array([[10, 10, 10],\n",
       "       [20, 20, 20],\n",
       "       [30, 30, 30]])"
      ]
     },
     "execution_count": 48,
     "metadata": {},
     "output_type": "execute_result"
    }
   ],
   "source": [
    "#and bb as\n",
    "bb"
   ]
  },
  {
   "cell_type": "code",
   "execution_count": 50,
   "metadata": {
    "collapsed": false
   },
   "outputs": [
    {
     "data": {
      "text/plain": [
       "array([[11, 12, 13],\n",
       "       [21, 22, 23],\n",
       "       [31, 32, 33]])"
      ]
     },
     "execution_count": 50,
     "metadata": {},
     "output_type": "execute_result"
    }
   ],
   "source": [
    "#hence we can do aa + bb\n",
    "aa + bb # which contains all combination of a and b"
   ]
  },
  {
   "cell_type": "code",
   "execution_count": 52,
   "metadata": {
    "collapsed": false
   },
   "outputs": [
    {
     "data": {
      "text/plain": [
       "array([10, 10, 10, 20, 20, 20, 30, 30, 30])"
      ]
     },
     "execution_count": 52,
     "metadata": {},
     "output_type": "execute_result"
    }
   ],
   "source": [
    "bb.ravel() # convert 2d to 1d array index"
   ]
  },
  {
   "cell_type": "code",
   "execution_count": null,
   "metadata": {
    "collapsed": true
   },
   "outputs": [],
   "source": []
  },
  {
   "cell_type": "code",
   "execution_count": 39,
   "metadata": {
    "collapsed": false
   },
   "outputs": [
    {
     "data": {
      "text/plain": [
       "array([[ 3.3,  3.8,  4.3,  4.8,  5.3,  5.8,  6.3,  6.8,  7.3,  7.8,  8.3,\n",
       "         8.8],\n",
       "       [ 3.3,  3.8,  4.3,  4.8,  5.3,  5.8,  6.3,  6.8,  7.3,  7.8,  8.3,\n",
       "         8.8],\n",
       "       [ 3.3,  3.8,  4.3,  4.8,  5.3,  5.8,  6.3,  6.8,  7.3,  7.8,  8.3,\n",
       "         8.8],\n",
       "       [ 3.3,  3.8,  4.3,  4.8,  5.3,  5.8,  6.3,  6.8,  7.3,  7.8,  8.3,\n",
       "         8.8],\n",
       "       [ 3.3,  3.8,  4.3,  4.8,  5.3,  5.8,  6.3,  6.8,  7.3,  7.8,  8.3,\n",
       "         8.8],\n",
       "       [ 3.3,  3.8,  4.3,  4.8,  5.3,  5.8,  6.3,  6.8,  7.3,  7.8,  8.3,\n",
       "         8.8],\n",
       "       [ 3.3,  3.8,  4.3,  4.8,  5.3,  5.8,  6.3,  6.8,  7.3,  7.8,  8.3,\n",
       "         8.8],\n",
       "       [ 3.3,  3.8,  4.3,  4.8,  5.3,  5.8,  6.3,  6.8,  7.3,  7.8,  8.3,\n",
       "         8.8],\n",
       "       [ 3.3,  3.8,  4.3,  4.8,  5.3,  5.8,  6.3,  6.8,  7.3,  7.8,  8.3,\n",
       "         8.8]])"
      ]
     },
     "execution_count": 39,
     "metadata": {},
     "output_type": "execute_result"
    }
   ],
   "source": [
    "x_min, x_max = X[:,0].min()-1, X[:,0].max()+1 # min and max range of first dimension\n",
    "y_min, y_max = X[:,1].min()-1, X[:,1].max()+1 # min and max range of second dimnesion\n",
    "h = 0.5\n",
    "xx, yy = np.meshgrid(np.arange(x_min,x_max,h),np.arange(y_min,y_max,h))\n",
    "xx"
   ]
  },
  {
   "cell_type": "code",
   "execution_count": 36,
   "metadata": {
    "collapsed": false
   },
   "outputs": [],
   "source": [
    "%matplotlib inline\n",
    "plt.subplot(1,1,1)\n",
    "np.c_[xx.ravel(), yy.ravel()] ## xx.ravel() returns all posible c"
   ]
  }
 ],
 "metadata": {
  "kernelspec": {
   "display_name": "Python 2",
   "language": "python",
   "name": "python2"
  },
  "language_info": {
   "codemirror_mode": {
    "name": "ipython",
    "version": 2
   },
   "file_extension": ".py",
   "mimetype": "text/x-python",
   "name": "python",
   "nbconvert_exporter": "python",
   "pygments_lexer": "ipython2",
   "version": "2.7.10"
  }
 },
 "nbformat": 4,
 "nbformat_minor": 0
}
