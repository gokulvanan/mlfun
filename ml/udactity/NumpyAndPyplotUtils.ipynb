{
 "cells": [
  {
   "cell_type": "code",
   "execution_count": 3,
   "metadata": {
    "collapsed": true
   },
   "outputs": [],
   "source": [
    "import numpy as np\n",
    "from sklearn.datasets import load_iris\n",
    "from sklearn.tree import  DecisionTreeClassifier \n",
    "from sklearn.cross_validation import train_test_split"
   ]
  },
  {
   "cell_type": "code",
   "execution_count": 4,
   "metadata": {
    "collapsed": true
   },
   "outputs": [],
   "source": [
    "import matplotlib.pyplot as plt\n",
    "%matplotlib inline"
   ]
  },
  {
   "cell_type": "code",
   "execution_count": 5,
   "metadata": {
    "collapsed": false
   },
   "outputs": [
    {
     "data": {
      "text/plain": [
       "[((0, 0), 'a'), ((0, 1), 'b'), ((1, 0), 'c'), ((1, 1), 'd')]"
      ]
     },
     "execution_count": 5,
     "metadata": {},
     "output_type": "execute_result"
    }
   ],
   "source": [
    "from itertools import product\n",
    "val = product([0, 1],[0, 1]) # gets all combination of 2 args\n",
    "zip(val,['a','b','c','d']) #zip - concats same index of args..."
   ]
  },
  {
   "cell_type": "code",
   "execution_count": 6,
   "metadata": {
    "collapsed": false
   },
   "outputs": [
    {
     "data": {
      "text/plain": [
       "array([ 4.7,  1.3])"
      ]
     },
     "execution_count": 6,
     "metadata": {},
     "output_type": "execute_result"
    }
   ],
   "source": [
    "iris = load_iris()\n",
    "X = iris.data[:, [0,2]] # break 4 feature data into 2 feature data note , after : is important\n",
    "y = iris.target\n",
    "X[2]"
   ]
  },
  {
   "cell_type": "code",
   "execution_count": 42,
   "metadata": {
    "collapsed": false
   },
   "outputs": [
    {
     "data": {
      "image/png": "[encoded data removed]",
      "text/plain": [
       "<matplotlib.figure.Figure at 0x109707c50>"
      ]
     },
     "metadata": {},
     "output_type": "display_data"
    }
   ],
   "source": [
    "#One way to look at Data is to scatter plot different points of data. In this case \n",
    "#we reduced the 4 feature data into 2 features to see how data divides among these 2 features when plotted\n",
    "\n",
    "plotobj = plt.scatter(X[:,0],X[:,1])"
   ]
  },
  {
   "cell_type": "code",
   "execution_count": 8,
   "metadata": {
    "collapsed": false
   },
   "outputs": [
    {
     "name": "stdout",
     "output_type": "stream",
     "text": [
      "[0 0 0 0 0 0 0 0 0 0 0 0 0 0 0 0 0 0 0 0 0 0 0 0 0 0 0 0 0 0 0 0 0 0 0 0 0\n",
      " 0 0 0 0 0 0 0 0 0 0 0 0 0 1 1 1 1 1 1 1 1 1 1 1 1 1 1 1 1 1 1 1 1 2 1 2 1\n",
      " 1 1 1 1 1 1 1 1 1 2 1 1 1 1 1 1 1 1 1 1 1 1 1 1 1 1 2 2 2 2 2 2 2 2 2 2 2\n",
      " 2 2 2 2 2 2 2 2 2 2 2 2 2 2 2 2 2 2 2 2 2 2 2 2 2 2 2 2 2 2 2 2 2 2 2 2 2\n",
      " 2 2]\n"
     ]
    }
   ],
   "source": [
    "clf = DecisionTreeClassifier(max_depth=4)\n",
    "clf.fit(X,y)\n",
    "Z = clf.predict(X)\n",
    "print Z\n",
    "\n",
    "# continue from http://scikit-learn.org/stable/auto_examples/ensemble/plot_voting_decision_regions.html#sphx-glr-auto-examples-ensemble-plot-voting-decision-regions-py"
   ]
  },
  {
   "cell_type": "code",
   "execution_count": 55,
   "metadata": {
    "collapsed": false
   },
   "outputs": [
    {
     "data": {
      "text/plain": [
       "(3.2999999999999998, 8.9000000000000004, 0.0, 7.9000000000000004)"
      ]
     },
     "execution_count": 55,
     "metadata": {},
     "output_type": "execute_result"
    }
   ],
   "source": [
    "#plotting decision regions\n",
    "x_min, x_max = X[:,0].min()-1, X[:,0].max()+1\n",
    "y_min, y_max = X[:,1].min()-1, X[:,1].max()+1\n",
    "x_min, x_max, y_min, y_max "
   ]
  },
  {
   "cell_type": "code",
   "execution_count": 56,
   "metadata": {
    "collapsed": false
   },
   "outputs": [
    {
     "data": {
      "text/plain": [
       "(array([[ 3.3,  3.4,  3.5, ...,  8.6,  8.7,  8.8],\n",
       "        [ 3.3,  3.4,  3.5, ...,  8.6,  8.7,  8.8],\n",
       "        [ 3.3,  3.4,  3.5, ...,  8.6,  8.7,  8.8],\n",
       "        ..., \n",
       "        [ 3.3,  3.4,  3.5, ...,  8.6,  8.7,  8.8],\n",
       "        [ 3.3,  3.4,  3.5, ...,  8.6,  8.7,  8.8],\n",
       "        [ 3.3,  3.4,  3.5, ...,  8.6,  8.7,  8.8]]),\n",
       " array([[ 0. ,  0. ,  0. , ...,  0. ,  0. ,  0. ],\n",
       "        [ 0.1,  0.1,  0.1, ...,  0.1,  0.1,  0.1],\n",
       "        [ 0.2,  0.2,  0.2, ...,  0.2,  0.2,  0.2],\n",
       "        ..., \n",
       "        [ 7.6,  7.6,  7.6, ...,  7.6,  7.6,  7.6],\n",
       "        [ 7.7,  7.7,  7.7, ...,  7.7,  7.7,  7.7],\n",
       "        [ 7.8,  7.8,  7.8, ...,  7.8,  7.8,  7.8]]))"
      ]
     },
     "execution_count": 56,
     "metadata": {},
     "output_type": "execute_result"
    }
   ],
   "source": [
    "xx, yy = np.meshgrid(np.arange(x_min,x_max,0.1), np.arange(y_min,y_max,0.1)) #returns a 2d matrix with rows as range of\n",
    "#first array and columns as range of second array and with values of first return array having increments of rows\n",
    "#and values of second array having column based increments of columns as shown below\n",
    "# the combination of 2 at same index indicates (x,y) coordinate point\n",
    "xx, yy"
   ]
  },
  {
   "cell_type": "code",
   "execution_count": 57,
   "metadata": {
    "collapsed": false
   },
   "outputs": [
    {
     "name": "stdout",
     "output_type": "stream",
     "text": [
      "[(3.2999999999999998, 0.0), (3.3999999999999999, 0.0), (3.5, 0.0), (3.6000000000000001, 0.0), (3.7000000000000002, 0.0), (3.8000000000000003, 0.0), (3.9000000000000004, 0.0), (4.0, 0.0), (4.1000000000000005, 0.0), (4.2000000000000011, 0.0), (4.3000000000000007, 0.0), (4.4000000000000004, 0.0), (4.5000000000000009, 0.0), (4.6000000000000014, 0.0), (4.7000000000000011, 0.0), (4.8000000000000007, 0.0), (4.9000000000000012, 0.0), (5.0000000000000018, 0.0), (5.1000000000000014, 0.0), (5.2000000000000011, 0.0), (5.3000000000000016, 0.0), (5.4000000000000021, 0.0), (5.5000000000000018, 0.0), (5.6000000000000014, 0.0), (5.700000000000002, 0.0), (5.8000000000000025, 0.0), (5.9000000000000021, 0.0), (6.0000000000000018, 0.0), (6.1000000000000023, 0.0), (6.2000000000000028, 0.0), (6.3000000000000025, 0.0), (6.4000000000000021, 0.0), (6.5000000000000027, 0.0), (6.6000000000000032, 0.0), (6.7000000000000028, 0.0), (6.8000000000000025, 0.0), (6.900000000000003, 0.0), (7.0000000000000036, 0.0), (7.1000000000000032, 0.0), (7.2000000000000028, 0.0), (7.3000000000000034, 0.0), (7.400000000000003, 0.0), (7.5000000000000036, 0.0), (7.6000000000000041, 0.0), (7.7000000000000037, 0.0), (7.8000000000000034, 0.0), (7.9000000000000039, 0.0), (8.0000000000000036, 0.0), (8.100000000000005, 0.0), (8.2000000000000028, 0.0), (8.3000000000000043, 0.0), (8.4000000000000057, 0.0), (8.5000000000000036, 0.0), (8.600000000000005, 0.0), (8.7000000000000046, 0.0), (8.8000000000000043, 0.0)]\n"
     ]
    },
    {
     "data": {
      "text/plain": [
       "(array([ 3.3,  3.4,  3.5, ...,  8.6,  8.7,  8.8]),\n",
       " array([ 0. ,  0. ,  0. , ...,  7.8,  7.8,  7.8]))"
      ]
     },
     "execution_count": 57,
     "metadata": {},
     "output_type": "execute_result"
    }
   ],
   "source": [
    "print zip(xx[0],yy[0])\n",
    "xx.ravel(), yy.ravel() #flattens a 2d array into 1d array"
   ]
  },
  {
   "cell_type": "code",
   "execution_count": 58,
   "metadata": {
    "collapsed": false
   },
   "outputs": [
    {
     "name": "stdout",
     "output_type": "stream",
     "text": [
      "[('a', 'c'), ('b', 'd')]\n"
     ]
    },
    {
     "data": {
      "text/plain": [
       "array([['a', 'c'],\n",
       "       ['b', 'd']], \n",
       "      dtype='|S1')"
      ]
     },
     "execution_count": 58,
     "metadata": {},
     "output_type": "execute_result"
    }
   ],
   "source": [
    "a = ['a','b']\n",
    "b = ['c', 'd']\n",
    "print zip(a,b)\n",
    "np.c_[a,b] # similar to zip but makes nd array of array not python array of tupple\n",
    "#note np.c_ is not a callable use [] not ()"
   ]
  },
  {
   "cell_type": "code",
   "execution_count": 59,
   "metadata": {
    "collapsed": false
   },
   "outputs": [
    {
     "data": {
      "text/plain": [
       "array([0, 0, 0, ..., 2, 2, 2])"
      ]
     },
     "execution_count": 59,
     "metadata": {},
     "output_type": "execute_result"
    }
   ],
   "source": [
    "Z = clf.predict(np.c_[xx.ravel(),yy.ravel()])\n",
    "Z # 1D array of prediction per point on the grid"
   ]
  },
  {
   "cell_type": "code",
   "execution_count": 60,
   "metadata": {
    "collapsed": false
   },
   "outputs": [],
   "source": [
    "Z =Z.reshape(xx.shape) # reshape flat output of Z as per row/col matrix - needed for plotting contourf"
   ]
  },
  {
   "cell_type": "code",
   "execution_count": 61,
   "metadata": {
    "collapsed": false
   },
   "outputs": [
    {
     "data": {
      "text/plain": [
       "<matplotlib.contour.QuadContourSet at 0x10a0fa310>"
      ]
     },
     "execution_count": 61,
     "metadata": {},
     "output_type": "execute_result"
    },
    {
     "data": {
      "image/png": "[encoded data removed]",
      "text/plain": [
       "<matplotlib.figure.Figure at 0x10a01a210>"
      ]
     },
     "metadata": {},
     "output_type": "display_data"
    }
   ],
   "source": [
    "plt.contourf(xx,yy,Z, alpha=0.4)"
   ]
  },
  {
   "cell_type": "code",
   "execution_count": 62,
   "metadata": {
    "collapsed": false
   },
   "outputs": [
    {
     "data": {
      "text/plain": [
       "<matplotlib.contour.QuadContourSet at 0x10a224ad0>"
      ]
     },
     "execution_count": 62,
     "metadata": {},
     "output_type": "execute_result"
    },
    {
     "data": {
      "image/png": "[encoded data removed]",
      "text/plain": [
       "<matplotlib.figure.Figure at 0x10a152450>"
      ]
     },
     "metadata": {},
     "output_type": "display_data"
    }
   ],
   "source": [
    "#to show both scatter plot and contourf super imposed we use subplot\n",
    "f, plotobj = plt.subplots(1,1,sharex='col',sharey='row')\n",
    "\n",
    "plotobj.scatter(X[:,0],X[:,1],alpha=0.8,c=y)\n",
    "plotobj.contourf(xx,yy,Z,alpha=0.4)"
   ]
  },
  {
   "cell_type": "code",
   "execution_count": 51,
   "metadata": {
    "collapsed": false
   },
   "outputs": [
    {
     "data": {
      "text/plain": [
       "<matplotlib.contour.QuadContourSet at 0x109c93f10>"
      ]
     },
     "execution_count": 51,
     "metadata": {},
     "output_type": "execute_result"
    }
   ],
   "source": []
  },
  {
   "cell_type": "code",
   "execution_count": 52,
   "metadata": {
    "collapsed": false
   },
   "outputs": [
    {
     "data": {
      "text/plain": [
       "<matplotlib.collections.PathCollection at 0x109daa3d0>"
      ]
     },
     "execution_count": 52,
     "metadata": {},
     "output_type": "execute_result"
    }
   ],
   "source": []
  }
 ],
 "metadata": {
  "kernelspec": {
   "display_name": "Python 2",
   "language": "python",
   "name": "python2"
  },
  "language_info": {
   "codemirror_mode": {
    "name": "ipython",
    "version": 2
   },
   "file_extension": ".py",
   "mimetype": "text/x-python",
   "name": "python",
   "nbconvert_exporter": "python",
   "pygments_lexer": "ipython2",
   "version": "2.7.10"
  }
 },
 "nbformat": 4,
 "nbformat_minor": 0
}
