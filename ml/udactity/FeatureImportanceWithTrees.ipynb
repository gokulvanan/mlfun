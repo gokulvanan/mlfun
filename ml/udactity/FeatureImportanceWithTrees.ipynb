{
 "cells": [
  {
   "cell_type": "code",
   "execution_count": 2,
   "metadata": {
    "collapsed": true
   },
   "outputs": [],
   "source": [
    "import numpy as np\n",
    "import matplotlib.pyplot as plt\n",
    "\n",
    "from sklearn.datasets import make_classification\n",
    "from sklearn.ensemble import ExtraTreesClassifier\n",
    "%matplotlib inline"
   ]
  },
  {
   "cell_type": "code",
   "execution_count": 3,
   "metadata": {
    "collapsed": false
   },
   "outputs": [],
   "source": [
    "#method to create fake dataset\n",
    "X, y = make_classification(n_samples = 1000, # no of samples\n",
    "                          n_features =10, # nof of features\n",
    "                          n_informative = 3, # no of features with higher importance in classification\n",
    "                          n_redundant = 0,\n",
    "                          n_repeated = 0,\n",
    "                          n_classes = 2,\n",
    "                          random_state = 0,\n",
    "                          shuffle=False)"
   ]
  },
  {
   "cell_type": "code",
   "execution_count": 11,
   "metadata": {
    "collapsed": false
   },
   "outputs": [
    {
     "name": "stdout",
     "output_type": "stream",
     "text": [
      "[ 0.25040154  0.23109364  0.14805736  0.05563166  0.05093405  0.05458341\n",
      "  0.0526061   0.05110921  0.05457295  0.05101006]\n",
      "[ 0.053903    0.05307449  0.03252136  0.01302339  0.01299559  0.01321203\n",
      "  0.01323084  0.01212405  0.01241771  0.01284808]\n",
      "Feature ranking\n"
     ]
    }
   ],
   "source": [
    "forest = ExtraTreesClassifier(n_estimators=250, random_state=0)\n",
    "forest.fit(X,y)\n",
    "importances = forest.feature_importances_\n",
    "print importances\n",
    "#take std of impo\n",
    "std = np.std([tree.feature_importances_ for tree in forest.estimators_], axis=0)\n",
    "print std\n",
    "\n",
    "indices = np.argsort(importances)[::-1] # np.argsort(importances) returns index array sorted by asc of values in importances array\n",
    "# [::-1] reverses this index array\n",
    "\n",
    "print \"Feature ranking\"\n",
    "\n",
    "    "
   ]
  },
  {
   "cell_type": "code",
   "execution_count": 15,
   "metadata": {
    "collapsed": false
   },
   "outputs": [
    {
     "name": "stdout",
     "output_type": "stream",
     "text": [
      "1. feature 0 (0.250402)\n",
      "2. feature 1 (0.231094)\n",
      "3. feature 2 (0.148057)\n",
      "4. feature 3 (0.055632)\n",
      "5. feature 5 (0.054583)\n",
      "6. feature 8 (0.054573)\n",
      "7. feature 6 (0.052606)\n",
      "8. feature 7 (0.051109)\n",
      "9. feature 9 (0.051010)\n",
      "10. feature 4 (0.050934)\n"
     ]
    }
   ],
   "source": [
    "for f in range(X.shape[1]):\n",
    "    print \"%d. feature %d (%f)\" % (f+1, indices[f], importances[indices[f]])"
   ]
  },
  {
   "cell_type": "code",
   "execution_count": 22,
   "metadata": {
    "collapsed": false
   },
   "outputs": [
    {
     "data": {
      "image/png": "[encoded data removed]",
      "text/plain": [
       "<matplotlib.figure.Figure at 0x10cbe9490>"
      ]
     },
     "metadata": {},
     "output_type": "display_data"
    },
    {
     "data": {
      "text/plain": [
       "10"
      ]
     },
     "execution_count": 22,
     "metadata": {},
     "output_type": "execute_result"
    }
   ],
   "source": [
    "plt.figure()\n",
    "plt.title(\"Feature importances\")\n",
    "plt.bar(range(X.shape[1]),\n",
    "        importances[indices],\n",
    "        color=\"r\", \n",
    "        yerr=std[indices],\n",
    "       align=\"center\")\n",
    "plt.xticks(range(X.shape[1]), indices)\n",
    "plt.xlim([-1, X.shape[1]]) # set limits form -1 to 10\n",
    "plt.show()\n"
   ]
  }
 ],
 "metadata": {
  "kernelspec": {
   "display_name": "Python 2",
   "language": "python",
   "name": "python2"
  },
  "language_info": {
   "codemirror_mode": {
    "name": "ipython",
    "version": 2
   },
   "file_extension": ".py",
   "mimetype": "text/x-python",
   "name": "python",
   "nbconvert_exporter": "python",
   "pygments_lexer": "ipython2",
   "version": "2.7.10"
  }
 },
 "nbformat": 4,
 "nbformat_minor": 0
}
