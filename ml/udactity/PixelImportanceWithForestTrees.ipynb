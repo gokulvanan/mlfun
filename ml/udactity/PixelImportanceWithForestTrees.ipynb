{
 "cells": [
  {
   "cell_type": "code",
   "execution_count": 2,
   "metadata": {
    "collapsed": true
   },
   "outputs": [],
   "source": [
    "from time import time\n",
    "import matplotlib.pyplot as plt\n",
    "%matplotlib inline\n",
    "from sklearn.datasets import fetch_olivetti_faces\n",
    "from sklearn.ensemble import ExtraTreesClassifier"
   ]
  },
  {
   "cell_type": "code",
   "execution_count": 33,
   "metadata": {
    "collapsed": false
   },
   "outputs": [
    {
     "name": "stdout",
     "output_type": "stream",
     "text": [
      "(400, 64, 64)\n",
      "400\n",
      "(400, 4096)\n"
     ]
    }
   ],
   "source": [
    "n_jobs = 8\n",
    "\n",
    "# changing 3d to 2D\n",
    "data = fetch_olivetti_faces();\n",
    "print data.images.shape\n",
    "print len(data.images)\n",
    "X = data.images.reshape((len(data.images),-1)) # now each z axis is going to be a new column in y \n",
    "print X.shape # 4096 features\n",
    "y = data.target\n",
    "#import numpy as np\n",
    "#np.reshape?"
   ]
  },
  {
   "cell_type": "code",
   "execution_count": 34,
   "metadata": {
    "collapsed": false
   },
   "outputs": [
    {
     "name": "stdout",
     "output_type": "stream",
     "text": [
      "done in 1.913s\n"
     ]
    }
   ],
   "source": [
    "mask = y < 5 # remove lower intesity pixels\n",
    "X = X[mask]\n",
    "y = y[mask]\n",
    "\n",
    "t0 = time()\n",
    "\n",
    "forest = ExtraTreesClassifier(n_estimators=1000,\n",
    "                             max_features=128, # rule of thumb in classification max_features= sqrt(features) = 64 \n",
    "                                               # reduces variance but increases bias\n",
    "                             n_jobs=n_jobs,\n",
    "                             random_state=0)\n",
    "\n",
    "forest.fit(X,y)\n",
    "print \"done in %0.3fs\"% (time()-t0)"
   ]
  },
  {
   "cell_type": "code",
   "execution_count": 31,
   "metadata": {
    "collapsed": false
   },
   "outputs": [
    {
     "name": "stdout",
     "output_type": "stream",
     "text": [
      "[  6.25000000e-05   0.00000000e+00   1.91186869e-04 ...,   4.16666667e-05\n",
      "   5.98121218e-04   8.40352084e-04]\n",
      "4096\n",
      "(64, 64)\n",
      "[[  6.25000000e-05   0.00000000e+00   1.91186869e-04 ...,   1.65238095e-04\n",
      "    4.50000000e-05   1.07500000e-04]\n",
      " [  0.00000000e+00   1.97916667e-04   4.54545455e-05 ...,   0.00000000e+00\n",
      "    4.50000000e-05   1.85606061e-04]\n",
      " [  3.75000000e-05   6.11154124e-04   4.54545455e-05 ...,   0.00000000e+00\n",
      "    1.80357143e-04   1.04866987e-03]\n",
      " ..., \n",
      " [  1.15454545e-04   3.33333333e-05   4.37500000e-05 ...,   7.39571441e-04\n",
      "    8.85274390e-04   1.30852787e-03]\n",
      " [  2.25454545e-04   1.60378788e-04   1.60000000e-04 ...,   5.51965078e-04\n",
      "    3.79512195e-04   1.52398990e-04]\n",
      " [  0.00000000e+00   0.00000000e+00   0.00000000e+00 ...,   4.16666667e-05\n",
      "    5.98121218e-04   8.40352084e-04]]\n"
     ]
    }
   ],
   "source": [
    "importance = forest.feature_importances_\n",
    "print importance\n",
    "print len(importance) # importance on scale 0 to 1 for each of 4096 features\n",
    "print data.images[0].shape # old shape of features in y and z dimensions\n",
    "importance = importance.reshape(data.images[0].shape)\n",
    "print importance"
   ]
  },
  {
   "cell_type": "code",
   "execution_count": 32,
   "metadata": {
    "collapsed": false
   },
   "outputs": [
    {
     "data": {
      "image/png": "[encoded data removed]",
      "text/plain": [
       "<matplotlib.figure.Figure at 0x113f06710>"
      ]
     },
     "metadata": {},
     "output_type": "display_data"
    }
   ],
   "source": [
    "plt.matshow(importance, cmap= plt.cm.hot)\n",
    "plt.title(\"Pixel importance of forest trees\")\n",
    "plt.show()"
   ]
  }
 ],
 "metadata": {
  "kernelspec": {
   "display_name": "Python 2",
   "language": "python",
   "name": "python2"
  },
  "language_info": {
   "codemirror_mode": {
    "name": "ipython",
    "version": 2
   },
   "file_extension": ".py",
   "mimetype": "text/x-python",
   "name": "python",
   "nbconvert_exporter": "python",
   "pygments_lexer": "ipython2",
   "version": "2.7.10"
  }
 },
 "nbformat": 4,
 "nbformat_minor": 0
}
